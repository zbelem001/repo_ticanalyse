{
 "cells": [
  {
   "cell_type": "code",
   "execution_count": null,
   "id": "c60d3257",
   "metadata": {},
   "outputs": [],
   "source": [
    "import pandas as pd\n",
    "from sqlalchemy import create_engine, inspect"
   ]
  },
  {
   "cell_type": "code",
   "execution_count": 16,
   "id": "09d38437",
   "metadata": {},
   "outputs": [],
   "source": [
    "# Remplace les valeurs par les tiennes\n",
    "user = 'root'\n",
    "password = '13135690'\n",
    "host = 'localhost'\n",
    "database = 'db_ecole'\n",
    "port = 3306"
   ]
  },
  {
   "cell_type": "code",
   "execution_count": 17,
   "id": "a0675070",
   "metadata": {},
   "outputs": [
    {
     "name": "stdout",
     "output_type": "stream",
     "text": [
      "Tables dans la base de données : ['Cours', 'Eleve', 'Eleve_Cours', 'Enseignant', 'Matiere', 'Salle']\n"
     ]
    }
   ],
   "source": [
    "# Connexion via SQLAlchemy avec le port\n",
    "import pymysql\n",
    "db = f'mysql+pymysql://{user}:{password}@{host}:{port}/{database}'\n",
    "engine = create_engine(db)\n",
    "\n",
    "inspector = inspect(engine)\n",
    "tables = inspector.get_table_names()\n",
    "print(\"Tables dans la base de données :\", tables)"
   ]
  }
 ],
 "metadata": {
  "kernelspec": {
   "display_name": ".venv",
   "language": "python",
   "name": "python3"
  },
  "language_info": {
   "codemirror_mode": {
    "name": "ipython",
    "version": 3
   },
   "file_extension": ".py",
   "mimetype": "text/x-python",
   "name": "python",
   "nbconvert_exporter": "python",
   "pygments_lexer": "ipython3",
   "version": "3.12.3"
  }
 },
 "nbformat": 4,
 "nbformat_minor": 5
}
