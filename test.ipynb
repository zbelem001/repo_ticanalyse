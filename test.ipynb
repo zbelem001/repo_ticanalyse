{
 "cells": [
  {
   "cell_type": "code",
   "execution_count": 1,
   "id": "c60d3257",
   "metadata": {},
   "outputs": [],
   "source": [
    "import pandas as pd\n",
    "from sqlalchemy import create_engine"
   ]
  },
  {
   "cell_type": "code",
   "execution_count": 5,
   "id": "09d38437",
   "metadata": {},
   "outputs": [],
   "source": [
    "# Remplace les valeurs par les tiennes\n",
    "user = 'admin'\n",
    "password = '13135690'\n",
    "host = 'localhost'\n",
    "database = 'db_ecole'\n",
    "port = 3306"
   ]
  },
  {
   "cell_type": "code",
   "execution_count": null,
   "id": "a0675070",
   "metadata": {},
   "outputs": [],
   "source": [
    "# Connexion via SQLAlchemy avec le port\n",
    "db = f'mysql+pymysql://{user}:{password}@{host}:{port}/{database}'\n",
    "engine = create_engine(db)"
   ]
  },
  {
   "cell_type": "code",
   "execution_count": null,
   "id": "40a47e6e",
   "metadata": {},
   "outputs": [
    {
     "name": "stdout",
     "output_type": "stream",
     "text": [
      "✓ Connexion réussie avec l'utilisateur 'root'!\n",
      "✗ Échec sans mot de passe: (pymysql.err.OperationalError) (1045, \"Access denied for user 'admin'@'localhost' (using password: NO)\")\n",
      "(Background on this error at: https://sqlalche.me/e/20/e3q8)\n"
     ]
    }
   ],
   "source": [
    "# Test de différentes configurations de connexion\n",
    "import pymysql\n",
    "\n",
    "# Configuration alternative 1: utilisateur root\n",
    "try:\n",
    "    user_alt = 'root'\n",
    "    db_alt = f'mysql+pymysql://{user_alt}:{password}@{host}:{port}/{database}'\n",
    "    engine_alt = create_engine(db_alt)\n",
    "    with engine_alt.connect() as connection:\n",
    "        print(\"✓ Connexion réussie avec l'utilisateur 'root'!\")\n",
    "        engine = engine_alt  # Utiliser cette connexion\n",
    "except Exception as e:\n",
    "    print(f\"✗ Échec avec 'root': {e}\")"
   ]
  },
  {
   "cell_type": "code",
   "execution_count": 21,
   "id": "ccd8d3f6",
   "metadata": {},
   "outputs": [
    {
     "name": "stdout",
     "output_type": "stream",
     "text": [
      "Tables disponibles: ['Cours', 'Eleve', 'Eleve_Cours', 'Enseignant', 'Matiere', 'Salle']\n"
     ]
    }
   ],
   "source": [
    "from sqlalchemy import inspect\n",
    "inspector = inspect(engine)\n",
    "\n",
    "# Pour MySQL, pas besoin de spécifier le schema \"public\"\n",
    "tables = inspector.get_table_names()\n",
    "print(\"Tables disponibles:\", tables)"
   ]
  },
  {
   "cell_type": "code",
   "execution_count": 22,
   "id": "e65eae01",
   "metadata": {},
   "outputs": [
    {
     "name": "stdout",
     "output_type": "stream",
     "text": [
      "✓ Connexion réussie à la base de données!\n",
      "✗ Erreur de connexion: Not an executable object: 'SELECT 1'\n",
      "\n",
      "Suggestions de dépannage:\n",
      "1. Vérifiez que MySQL est démarré\n",
      "2. Vérifiez le nom d'utilisateur et le mot de passe\n",
      "3. Essayez avec l'utilisateur 'root'\n",
      "4. Vérifiez que la base de données 'db_ecole' existe\n"
     ]
    }
   ],
   "source": [
    "# Vérifier la connexion finale\n",
    "try:\n",
    "    with engine.connect() as connection:\n",
    "        print(\"✓ Connexion réussie à la base de données!\")\n",
    "        # Tester une requête simple\n",
    "        result = connection.execute(\"SELECT 1\")\n",
    "        print(\"✓ Test de requête réussi!\")\n",
    "except Exception as e:\n",
    "    print(f\"✗ Erreur de connexion: {e}\")\n",
    "    print(\"\\nSuggestions de dépannage:\")\n",
    "    print(\"1. Vérifiez que MySQL est démarré\")\n",
    "    print(\"2. Vérifiez le nom d'utilisateur et le mot de passe\")\n",
    "    print(\"3. Essayez avec l'utilisateur 'root'\")\n",
    "    print(\"4. Vérifiez que la base de données 'db_ecole' existe\")"
   ]
  },
  {
   "cell_type": "code",
   "execution_count": null,
   "id": "f7f14ed1",
   "metadata": {},
   "outputs": [],
   "source": []
  }
 ],
 "metadata": {
  "kernelspec": {
   "display_name": ".venv",
   "language": "python",
   "name": "python3"
  },
  "language_info": {
   "codemirror_mode": {
    "name": "ipython",
    "version": 3
   },
   "file_extension": ".py",
   "mimetype": "text/x-python",
   "name": "python",
   "nbconvert_exporter": "python",
   "pygments_lexer": "ipython3",
   "version": "3.12.3"
  }
 },
 "nbformat": 4,
 "nbformat_minor": 5
}
